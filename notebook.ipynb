{
 "cells": [
  {
   "cell_type": "markdown",
   "metadata": {},
   "source": [
    "# Modelo basado en capas convolucionales para clasificación de dígitos"
   ]
  },
  {
   "cell_type": "markdown",
   "metadata": {},
   "source": [
    " Modelo preentrenado (formato .h5):"
   ]
  },
  {
   "cell_type": "code",
   "execution_count": 4,
   "metadata": {},
   "outputs": [
    {
     "name": "stdout",
     "output_type": "stream",
     "text": [
      "Modelo guardado correctamente.\n"
     ]
    }
   ],
   "source": [
    "import requests\n",
    "\n",
    "url = \"https://huggingface.co/spaces/ayaanzaveri/mnist/resolve/main/mnist-model.h5\"\n",
    "r = requests.get(url)\n",
    "with open(\"mnist_model.h5\", \"wb\") as f:\n",
    "    f.write(r.content)\n",
    "\n",
    "print(\"Modelo guardado correctamente.\")"
   ]
  },
  {
   "cell_type": "markdown",
   "metadata": {},
   "source": [
    "Usar el modelo descargado"
   ]
  },
  {
   "cell_type": "code",
   "execution_count": 5,
   "metadata": {},
   "outputs": [
    {
     "name": "stderr",
     "output_type": "stream",
     "text": [
      "c:\\Users\\ddavi\\anaconda3\\envs\\mnist-tarea\\lib\\site-packages\\keras\\src\\layers\\convolutional\\base_conv.py:113: UserWarning: Do not pass an `input_shape`/`input_dim` argument to a layer. When using Sequential models, prefer using an `Input(shape)` object as the first layer in the model instead.\n",
      "  super().__init__(activity_regularizer=activity_regularizer, **kwargs)\n",
      "c:\\Users\\ddavi\\anaconda3\\envs\\mnist-tarea\\lib\\site-packages\\keras\\src\\optimizers\\base_optimizer.py:86: UserWarning: Argument `decay` is no longer supported and will be ignored.\n",
      "  warnings.warn(\n",
      "WARNING:absl:Compiled the loaded model, but the compiled metrics have yet to be built. `model.compile_metrics` will be empty until you train or evaluate the model.\n",
      "WARNING:absl:Error in loading the saved optimizer state. As a result, your model is starting with a freshly initialized optimizer.\n"
     ]
    },
    {
     "name": "stdout",
     "output_type": "stream",
     "text": [
      "\u001b[1m313/313\u001b[0m \u001b[32m━━━━━━━━━━━━━━━━━━━━\u001b[0m\u001b[37m\u001b[0m \u001b[1m7s\u001b[0m 19ms/step - accuracy: 0.9926 - loss: 0.0355\n",
      "Precisión en el conjunto de prueba: 0.9934999942779541\n"
     ]
    }
   ],
   "source": [
    "from tensorflow.keras.models import load_model\n",
    "import tensorflow as tf\n",
    "import numpy as np\n",
    "import matplotlib.pyplot as plt\n",
    "\n",
    "# Cargar datos de prueba\n",
    "(_, _), (x_test, y_test) = tf.keras.datasets.mnist.load_data()\n",
    "x_test = x_test.reshape(-1, 28, 28, 1).astype(\"float32\") / 255.0\n",
    "\n",
    "# Cargar el modelo preentrenado\n",
    "model = load_model(\"mnist_model.h5\")\n",
    "\n",
    "# Carga el modelo con las metricas correctas\n",
    "\n",
    "model.compile(\n",
    "    optimizer='adam',\n",
    "    loss='sparse_categorical_crossentropy',\n",
    "    metrics=['accuracy']\n",
    "    )\n",
    "\n",
    "# Evaluar el modelo\n",
    "loss, accuracy = model.evaluate(x_test, y_test)\n",
    "print(\"Precisión en el conjunto de prueba:\", accuracy)"
   ]
  },
  {
   "cell_type": "markdown",
   "metadata": {},
   "source": [
    "Realizar una predicción"
   ]
  },
  {
   "cell_type": "code",
   "execution_count": 6,
   "metadata": {},
   "outputs": [
    {
     "data": {
      "image/png": "[encoded data removed]",
      "text/plain": [
       "<Figure size 640x480 with 1 Axes>"
      ]
     },
     "metadata": {},
     "output_type": "display_data"
    },
    {
     "name": "stdout",
     "output_type": "stream",
     "text": [
      "\u001b[1m1/1\u001b[0m \u001b[32m━━━━━━━━━━━━━━━━━━━━\u001b[0m\u001b[37m\u001b[0m \u001b[1m0s\u001b[0m 204ms/step\n",
      "Predicción del modelo: 7\n"
     ]
    }
   ],
   "source": [
    "\n",
    "idx = 0  # Cambia este índice para probar otras imágenes\n",
    "img = x_test[idx]\n",
    "plt.imshow(img.squeeze(), cmap='gray')\n",
    "plt.title(f\"Etiqueta real: {y_test[idx]}\")\n",
    "plt.axis('off')\n",
    "plt.show()\n",
    "\n",
    "prediction = model.predict(np.expand_dims(img, axis=0))\n",
    "print(\"Predicción del modelo:\", np.argmax(prediction))"
   ]
  },
  {
   "cell_type": "markdown",
   "metadata": {},
   "source": [
    "# Para hacer\n",
    "\n",
    "1. Mostrar los valores y visualizar al menos 10 kernels del modelo pre-entrenado\n",
    "2. Mostrar las salidas obtenidas al aplicar la convolución de una imagen con los kernels del ejercicio 1.\n",
    "3. Calcular las predicciones de al menos 10 imágenes propias (adjuntar evidencia del proceso de adquisición de imágenes). Aplicar y explicar el tratamiento de imágenes necesario para adecuar los datos de entrada al modelo.\n",
    "4. Repetir el ejercicio 2 con al menos una de las imágenes del ejercicio 3."
   ]
  },
  {
   "cell_type": "markdown",
   "metadata": {},
   "source": [
    "**Punto 1**"
   ]
  },
  {
   "cell_type": "code",
   "execution_count": 7,
   "metadata": {},
   "outputs": [
    {
     "name": "stderr",
     "output_type": "stream",
     "text": [
      "WARNING:absl:Compiled the loaded model, but the compiled metrics have yet to be built. `model.compile_metrics` will be empty until you train or evaluate the model.\n",
      "WARNING:absl:Error in loading the saved optimizer state. As a result, your model is starting with a freshly initialized optimizer.\n"
     ]
    },
    {
     "name": "stdout",
     "output_type": "stream",
     "text": [
      "Shape de los kernels: (3, 3, 1, 64)\n"
     ]
    },
    {
     "data": {
      "image/png": "[encoded data removed]",
      "text/plain": [
       "<Figure size 2000x200 with 10 Axes>"
      ]
     },
     "metadata": {},
     "output_type": "display_data"
    },
    {
     "name": "stdout",
     "output_type": "stream",
     "text": [
      "Valores del Kernel 1:\n",
      " [[-0.12700336  0.06122914  0.18749826]\n",
      " [ 0.00937727  0.06842199 -0.15611908]\n",
      " [ 0.07726777  0.1055401  -0.07614024]] \n",
      "\n",
      "Valores del Kernel 2:\n",
      " [[-0.00760545 -0.09749123 -0.0297416 ]\n",
      " [-0.14701729  0.0235094   0.10060543]\n",
      " [ 0.03251523  0.09855077 -0.17245239]] \n",
      "\n",
      "Valores del Kernel 3:\n",
      " [[ 0.07023826 -0.21103628 -0.09095965]\n",
      " [ 0.02933992 -0.07835605 -0.1302393 ]\n",
      " [ 0.14252186  0.11110964  0.11837369]] \n",
      "\n",
      "Valores del Kernel 4:\n",
      " [[-0.21196793 -0.13741313  0.2216292 ]\n",
      " [-0.31462792  0.03304299 -0.00644098]\n",
      " [-0.1741988  -0.14471729 -0.04228156]] \n",
      "\n",
      "Valores del Kernel 5:\n",
      " [[-0.11149041  0.15514414  0.01868065]\n",
      " [-0.03872406 -0.19877903 -0.13155748]\n",
      " [ 0.07934779  0.04774173  0.02208661]] \n",
      "\n",
      "Valores del Kernel 6:\n",
      " [[ 0.1470435   0.14372769  0.19879644]\n",
      " [-0.03609898 -0.00439419  0.0708851 ]\n",
      " [-0.22566178 -0.14623997 -0.03570205]] \n",
      "\n",
      "Valores del Kernel 7:\n",
      " [[ 0.00473779 -0.10265329 -0.16014414]\n",
      " [-0.07055251  0.04871018  0.26408508]\n",
      " [ 0.05364871 -0.05179111  0.15994029]] \n",
      "\n",
      "Valores del Kernel 8:\n",
      " [[-0.15481383 -0.15898013  0.10365874]\n",
      " [ 0.13624863  0.15734306  0.11839522]\n",
      " [-0.13715087 -0.00111765 -0.00045178]] \n",
      "\n",
      "Valores del Kernel 9:\n",
      " [[ 0.09074014  0.10432661 -0.05280223]\n",
      " [-0.20483704 -0.19296305  0.0403509 ]\n",
      " [ 0.06602743  0.0604648   0.12453027]] \n",
      "\n",
      "Valores del Kernel 10:\n",
      " [[-0.14345153  0.0945807  -0.05499689]\n",
      " [ 0.0072555   0.2406906   0.13701588]\n",
      " [-0.08756598 -0.19608338  0.05941346]] \n",
      "\n"
     ]
    }
   ],
   "source": [
    "import tensorflow as tf\n",
    "import matplotlib.pyplot as plt\n",
    "import numpy as np\n",
    "\n",
    "# Carga el modelo preentrenado (ajusta la ruta si es necesario)\n",
    "model = tf.keras.models.load_model(\"mnist_model.h5\")\n",
    "\n",
    "# Obtén la primera capa convolucional\n",
    "first_conv_layer = None\n",
    "for layer in model.layers:\n",
    "    if 'conv' in layer.name:\n",
    "        first_conv_layer = layer\n",
    "        break\n",
    "\n",
    "kernels = first_conv_layer.get_weights()[0]  # shape: (kernel_h, kernel_w, in_channels, out_channels)\n",
    "print(\"Shape de los kernels:\", kernels.shape)\n",
    "\n",
    "# Visualiza los primeros 10 kernels del primer canal de entrada\n",
    "fig, axes = plt.subplots(1, 10, figsize=(20,2))\n",
    "for i in range(10):\n",
    "    kernel = kernels[:, :, 0, i]  # Primer canal de entrada, kernel i\n",
    "    axes[i].imshow(kernel, cmap='gray')\n",
    "    axes[i].set_title(f'Kernel {i+1}')\n",
    "    axes[i].axis('off')\n",
    "plt.suptitle(\"Primeros 10 kernels de la 1ra capa convolucional\")\n",
    "plt.show()\n",
    "\n",
    "# (Opcional) Mostrar los valores numéricos de los primeros kernels\n",
    "for i in range(10):\n",
    "    print(f\"Valores del Kernel {i+1}:\\n\", kernels[:,:,0,i], \"\\n\")\n"
   ]
  },
  {
   "cell_type": "markdown",
   "metadata": {},
   "source": [
    "**Punto 2**"
   ]
  },
  {
   "cell_type": "code",
   "execution_count": 8,
   "metadata": {},
   "outputs": [
    {
     "name": "stdout",
     "output_type": "stream",
     "text": [
      "\u001b[1m1/1\u001b[0m \u001b[32m━━━━━━━━━━━━━━━━━━━━\u001b[0m\u001b[37m\u001b[0m \u001b[1m0s\u001b[0m 68ms/step\n"
     ]
    },
    {
     "data": {
      "image/png": "[encoded data removed]",
      "text/plain": [
       "<Figure size 2000x200 with 10 Axes>"
      ]
     },
     "metadata": {},
     "output_type": "display_data"
    }
   ],
   "source": [
    "from tensorflow.keras import Model\n",
    "\n",
    "# Carga una imagen de prueba de MNIST\n",
    "(_, _), (x_test, y_test) = tf.keras.datasets.mnist.load_data()\n",
    "img = x_test[1]  # Cambia el índice si quieres otra imagen\n",
    "img_norm = img / 255.0\n",
    "img_input = np.expand_dims(np.expand_dims(img_norm, axis=0), axis=-1)\n",
    "\n",
    "# Encuentra la primera capa convolucional y la capa de entrada real\n",
    "first_conv_layer = None\n",
    "for layer in model.layers:\n",
    "    if 'conv' in layer.name:\n",
    "        first_conv_layer = layer\n",
    "        break\n",
    "\n",
    "input_layer = model.layers[0].input  # OJO: input real de la primera capa\n",
    "\n",
    "model_cut = Model(inputs=input_layer, outputs=first_conv_layer.output)\n",
    "feature_maps = model_cut.predict(img_input)\n",
    "\n",
    "# Visualiza los 10 primeros feature maps (salidas de la convolución)\n",
    "fig, axes = plt.subplots(1, 10, figsize=(20,2))\n",
    "for i in range(10):\n",
    "    axes[i].imshow(feature_maps[0, :, :, i], cmap='gray')\n",
    "    axes[i].set_title(f'Mapa {i+1}')\n",
    "    axes[i].axis('off')\n",
    "plt.suptitle(\"Feature maps: salida de la convolución de la imagen con los 10 kernels\")\n",
    "plt.show()\n",
    "\n"
   ]
  },
  {
   "cell_type": "markdown",
   "metadata": {},
   "source": [
    "PUNTO 3"
   ]
  },
  {
   "cell_type": "code",
   "execution_count": 9,
   "metadata": {},
   "outputs": [
    {
     "name": "stderr",
     "output_type": "stream",
     "text": [
      "WARNING:absl:Compiled the loaded model, but the compiled metrics have yet to be built. `model.compile_metrics` will be empty until you train or evaluate the model.\n",
      "WARNING:absl:Error in loading the saved optimizer state. As a result, your model is starting with a freshly initialized optimizer.\n"
     ]
    },
    {
     "name": "stdout",
     "output_type": "stream",
     "text": [
      "\u001b[1m1/1\u001b[0m \u001b[32m━━━━━━━━━━━━━━━━━━━━\u001b[0m\u001b[37m\u001b[0m \u001b[1m0s\u001b[0m 273ms/step\n"
     ]
    },
    {
     "data": {
      "image/png": "[encoded data removed]",
      "text/plain": [
       "<Figure size 1200x600 with 10 Axes>"
      ]
     },
     "metadata": {},
     "output_type": "display_data"
    }
   ],
   "source": [
    "import numpy as np\n",
    "import cv2\n",
    "import matplotlib.pyplot as plt\n",
    "from tensorflow.keras.models import load_model\n",
    "\n",
    "model = load_model(\"mnist_model.h5\")\n",
    "model.compile(optimizer='adam', loss='sparse_categorical_crossentropy', metrics=['accuracy'])\n",
    "\n",
    "archivos = [\n",
    "    \"imagenes_propias/0.jpg\",\n",
    "    \"imagenes_propias/1.jpg\",\n",
    "    \"imagenes_propias/2.jpg\",\n",
    "    \"imagenes_propias/3.jpg\",\n",
    "    \"imagenes_propias/4.jpg\",\n",
    "    \"imagenes_propias/5.jpg\",\n",
    "    \"imagenes_propias/6.jpg\",\n",
    "    \"imagenes_propias/7.jpg\",\n",
    "    \"imagenes_propias/8.jpg\",\n",
    "    \"imagenes_propias/9.jpg\"\n",
    "]\n",
    "\n",
    "imagenes_procesadas = []\n",
    "\n",
    "def centrar_imagen(imagen):\n",
    "    # Encontrar el contorno del número\n",
    "    coords = cv2.findNonZero(imagen)\n",
    "    x, y, w, h = cv2.boundingRect(coords)\n",
    "    recorte = imagen[y:y+h, x:x+w]\n",
    "\n",
    "    # Redimensionar para que el dígito más largo sea 20 píxeles\n",
    "    margen = 4  # 28 - 20 = 8 / 2\n",
    "    if h > w:\n",
    "        nueva_altura = 20\n",
    "        nueva_anchura = int((w / h) * 20)\n",
    "    else:\n",
    "        nueva_anchura = 20\n",
    "        nueva_altura = int((h / w) * 20)\n",
    "\n",
    "    imagen_redimensionada = cv2.resize(recorte, (nueva_anchura, nueva_altura), interpolation=cv2.INTER_AREA)\n",
    "\n",
    "    # Crear una imagen negra de 28x28\n",
    "    canvas = np.zeros((28, 28), dtype=np.uint8)\n",
    "    x_offset = (28 - nueva_anchura) // 2\n",
    "    y_offset = (28 - nueva_altura) // 2\n",
    "\n",
    "    # Pegar la imagen redimensionada en el centro del canvas\n",
    "    canvas[y_offset:y_offset + nueva_altura, x_offset:x_offset + nueva_anchura] = imagen_redimensionada\n",
    "\n",
    "    return canvas\n",
    "\n",
    "for archivo in archivos:\n",
    "    imagen = cv2.imread(archivo, cv2.IMREAD_GRAYSCALE)\n",
    "    imagen = cv2.resize(imagen, (28, 28), interpolation=cv2.INTER_AREA)\n",
    "\n",
    "    # Binarizar e invertir\n",
    "    _, imagen = cv2.threshold(imagen, 127, 255, cv2.THRESH_BINARY_INV)\n",
    "\n",
    "    # Centrar el dígito en el canvas\n",
    "    imagen = centrar_imagen(imagen)\n",
    "\n",
    "    # Normalizar y dar forma\n",
    "    imagen = imagen.astype(\"float32\") / 255.0\n",
    "    imagen = imagen.reshape(28, 28, 1)\n",
    "\n",
    "    imagenes_procesadas.append(imagen)\n",
    "\n",
    "imagenes_np = np.array(imagenes_procesadas)\n",
    "predicciones = model.predict(imagenes_np)\n",
    "etiquetas = np.argmax(predicciones, axis=1)\n",
    "\n",
    "# Mostrar los resultados\n",
    "plt.figure(figsize=(12, 6))\n",
    "for i in range(len(imagenes_np)):\n",
    "    plt.subplot(2, 5, i+1)\n",
    "    plt.imshow(imagenes_np[i].reshape(28, 28), cmap=\"gray\")\n",
    "    plt.title(f\"Predicción: {etiquetas[i]}\")\n",
    "    plt.axis(\"off\")\n",
    "\n",
    "plt.tight_layout()\n",
    "plt.show()\n",
    "\n"
   ]
  },
  {
   "cell_type": "markdown",
   "metadata": {},
   "source": [
    "##PUNTO 4"
   ]
  },
  {
   "cell_type": "code",
   "execution_count": 11,
   "metadata": {},
   "outputs": [
    {
     "data": {
      "image/png": "[encoded data removed]",
      "text/plain": [
       "<Figure size 640x480 with 1 Axes>"
      ]
     },
     "metadata": {},
     "output_type": "display_data"
    },
    {
     "name": "stderr",
     "output_type": "stream",
     "text": [
      "WARNING:absl:Compiled the loaded model, but the compiled metrics have yet to be built. `model.compile_metrics` will be empty until you train or evaluate the model.\n",
      "WARNING:absl:Error in loading the saved optimizer state. As a result, your model is starting with a freshly initialized optimizer.\n"
     ]
    },
    {
     "name": "stdout",
     "output_type": "stream",
     "text": [
      "\u001b[1m1/1\u001b[0m \u001b[32m━━━━━━━━━━━━━━━━━━━━\u001b[0m\u001b[37m\u001b[0m \u001b[1m0s\u001b[0m 318ms/step\n",
      "WARNING:tensorflow:5 out of the last 5 calls to <function TensorFlowTrainer.make_predict_function.<locals>.one_step_on_data_distributed at 0x00000147A3AC9CA0> triggered tf.function retracing. Tracing is expensive and the excessive number of tracings could be due to (1) creating @tf.function repeatedly in a loop, (2) passing tensors with different shapes, (3) passing Python objects instead of tensors. For (1), please define your @tf.function outside of the loop. For (2), @tf.function has reduce_retracing=True option that can avoid unnecessary retracing. For (3), please refer to https://www.tensorflow.org/guide/function#controlling_retracing and https://www.tensorflow.org/api_docs/python/tf/function for  more details.\n"
     ]
    },
    {
     "name": "stderr",
     "output_type": "stream",
     "text": [
      "WARNING:tensorflow:5 out of the last 5 calls to <function TensorFlowTrainer.make_predict_function.<locals>.one_step_on_data_distributed at 0x00000147A3AC9CA0> triggered tf.function retracing. Tracing is expensive and the excessive number of tracings could be due to (1) creating @tf.function repeatedly in a loop, (2) passing tensors with different shapes, (3) passing Python objects instead of tensors. For (1), please define your @tf.function outside of the loop. For (2), @tf.function has reduce_retracing=True option that can avoid unnecessary retracing. For (3), please refer to https://www.tensorflow.org/guide/function#controlling_retracing and https://www.tensorflow.org/api_docs/python/tf/function for  more details.\n"
     ]
    },
    {
     "name": "stdout",
     "output_type": "stream",
     "text": [
      "\u001b[1m1/1\u001b[0m \u001b[32m━━━━━━━━━━━━━━━━━━━━\u001b[0m\u001b[37m\u001b[0m \u001b[1m0s\u001b[0m 102ms/step\n"
     ]
    },
    {
     "data": {
      "image/png": "[encoded data removed]",
      "text/plain": [
       "<Figure size 2000x200 with 10 Axes>"
      ]
     },
     "metadata": {},
     "output_type": "display_data"
    }
   ],
   "source": [
    "import numpy as np\n",
    "import matplotlib.pyplot as plt\n",
    "from PIL import Image\n",
    "import tensorflow as tf\n",
    "from tensorflow.keras.models import load_model, Model\n",
    "from tensorflow.keras.layers import Input\n",
    "\n",
    "# 1. Procesar la imagen\n",
    "img_path = \"5.jpg\"\n",
    "img = Image.open(img_path).convert(\"L\")\n",
    "img_array = np.array(img)\n",
    "img_inverted = 255 - img_array  # Fondo negro, número blanco\n",
    "img_resized = Image.fromarray(img_inverted).resize((28, 28))\n",
    "img_final = np.array(img_resized) / 255.0\n",
    "img_input = np.expand_dims(np.expand_dims(img_final, axis=0), axis=-1)\n",
    "\n",
    "plt.imshow(img_final, cmap='gray')\n",
    "plt.title(\"Imagen preprocesada\")\n",
    "plt.axis('off')\n",
    "plt.show()\n",
    "\n",
    "# 2. Cargar el modelo y forzar su construcción\n",
    "model = load_model(\"mnist_model.h5\")\n",
    "_ = model.predict(np.zeros((1, 28, 28, 1)))  # Forzar construcción\n",
    "\n",
    "# 3. Buscar la primera capa convolucional\n",
    "first_conv_layer = None\n",
    "for layer in model.layers:\n",
    "    if 'conv' in layer.name:\n",
    "        first_conv_layer = layer\n",
    "        break\n",
    "\n",
    "# 4. Reconstruir el modelo hasta la primera capa convolucional (compatible con Sequential y Functional)\n",
    "inputs = Input(shape=(28,28,1))\n",
    "x = inputs\n",
    "for layer in model.layers:\n",
    "    x = layer(x)\n",
    "    if layer == first_conv_layer:\n",
    "        break\n",
    "model_cut = Model(inputs=inputs, outputs=x)\n",
    "\n",
    "# 5. Aplicar los kernels a la imagen y mostrar los primeros 10 feature maps\n",
    "feature_maps = model_cut.predict(img_input)\n",
    "\n",
    "fig, axes = plt.subplots(1, 10, figsize=(20, 2))\n",
    "for i in range(10):\n",
    "    axes[i].imshow(feature_maps[0, :, :, i], cmap='gray')\n",
    "    axes[i].set_title(f'Mapa {i+1}')\n",
    "    axes[i].axis('off')\n",
    "plt.suptitle(\"Feature maps con los primeros 10 kernels\")\n",
    "plt.show()"
   ]
  }
 ],
 "metadata": {
  "kernelspec": {
   "display_name": "mnist-tarea",
   "language": "python",
   "name": "python3"
  },
  "language_info": {
   "codemirror_mode": {
    "name": "ipython",
    "version": 3
   },
   "file_extension": ".py",
   "mimetype": "text/x-python",
   "name": "python",
   "nbconvert_exporter": "python",
   "pygments_lexer": "ipython3",
   "version": "3.9.23"
  }
 },
 "nbformat": 4,
 "nbformat_minor": 2
}

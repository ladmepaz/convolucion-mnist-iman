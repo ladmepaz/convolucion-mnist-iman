{
 "cells": [
  {
   "cell_type": "markdown",
   "metadata": {},
   "source": [
    "# Modelo basado en capas convolucionales para clasificación de dígitos"
   ]
  },
  {
   "cell_type": "markdown",
   "metadata": {},
   "source": [
    " Modelo preentrenado (formato .h5):"
   ]
  },
  {
   "cell_type": "code",
   "execution_count": 54,
   "metadata": {},
   "outputs": [
    {
     "name": "stdout",
     "output_type": "stream",
     "text": [
      "Modelo guardado correctamente.\n"
     ]
    }
   ],
   "source": [
    "import requests\n",
    "\n",
    "url = \"https://huggingface.co/spaces/ayaanzaveri/mnist/resolve/main/mnist-model.h5\"\n",
    "r = requests.get(url)\n",
    "with open(\"mnist_model.h5\", \"wb\") as f:\n",
    "    f.write(r.content)\n",
    "\n",
    "print(\"Modelo guardado correctamente.\")"
   ]
  },
  {
   "cell_type": "markdown",
   "metadata": {},
   "source": [
    "Usar el modelo descargado"
   ]
  },
  {
   "cell_type": "code",
   "execution_count": 55,
   "metadata": {},
   "outputs": [
    {
     "name": "stderr",
     "output_type": "stream",
     "text": [
      "WARNING:absl:Compiled the loaded model, but the compiled metrics have yet to be built. `model.compile_metrics` will be empty until you train or evaluate the model.\n",
      "WARNING:absl:Error in loading the saved optimizer state. As a result, your model is starting with a freshly initialized optimizer.\n"
     ]
    },
    {
     "name": "stdout",
     "output_type": "stream",
     "text": [
      "\u001b[1m313/313\u001b[0m \u001b[32m━━━━━━━━━━━━━━━━━━━━\u001b[0m\u001b[37m\u001b[0m \u001b[1m6s\u001b[0m 16ms/step - accuracy: 0.9926 - loss: 0.0355\n",
      "Precisión en el conjunto de prueba: 0.9934999942779541\n"
     ]
    }
   ],
   "source": [
    "from tensorflow.keras.models import load_model\n",
    "import tensorflow as tf\n",
    "import numpy as np\n",
    "import matplotlib.pyplot as plt\n",
    "\n",
    "# Cargar datos de prueba\n",
    "(_, _), (x_test, y_test) = tf.keras.datasets.mnist.load_data()\n",
    "x_test = x_test.reshape(-1, 28, 28, 1).astype(\"float32\") / 255.0\n",
    "\n",
    "# Cargar el modelo preentrenado\n",
    "model = load_model(\"mnist_model.h5\")\n",
    "\n",
    "# Carga el modelo con las metricas correctas\n",
    "\n",
    "model.compile(\n",
    "    optimizer='adam',\n",
    "    loss='sparse_categorical_crossentropy',\n",
    "    metrics=['accuracy']\n",
    "    )\n",
    "\n",
    "# Evaluar el modelo\n",
    "loss, accuracy = model.evaluate(x_test, y_test)\n",
    "print(\"Precisión en el conjunto de prueba:\", accuracy)"
   ]
  },
  {
   "cell_type": "markdown",
   "metadata": {},
   "source": [
    "Realizar una predicción"
   ]
  },
  {
   "cell_type": "code",
   "execution_count": 56,
   "metadata": {},
   "outputs": [
    {
     "data": {
      "image/png": "[encoded data removed]",
      "text/plain": [
       "<Figure size 640x480 with 1 Axes>"
      ]
     },
     "metadata": {},
     "output_type": "display_data"
    },
    {
     "name": "stdout",
     "output_type": "stream",
     "text": [
      "\u001b[1m1/1\u001b[0m \u001b[32m━━━━━━━━━━━━━━━━━━━━\u001b[0m\u001b[37m\u001b[0m \u001b[1m0s\u001b[0m 276ms/step\n",
      "Predicción del modelo: 7\n"
     ]
    }
   ],
   "source": [
    "\n",
    "idx = 0  # Cambia este índice para probar otras imágenes\n",
    "img = x_test[idx]\n",
    "plt.imshow(img.squeeze(), cmap='gray')\n",
    "plt.title(f\"Etiqueta real: {y_test[idx]}\")\n",
    "plt.axis('off')\n",
    "plt.show()\n",
    "\n",
    "prediction = model.predict(np.expand_dims(img, axis=0))\n",
    "print(\"Predicción del modelo:\", np.argmax(prediction))"
   ]
  },
  {
   "cell_type": "markdown",
   "metadata": {},
   "source": [
    "# Para hacer\n",
    "\n",
    "1. Mostrar los valores y visualizar al menos 10 kernels del modelo pre-entrenado\n",
    "2. Mostrar las salidas obtenidas al aplicar la convolución de una imagen con los kernels del ejercicio 1.\n",
    "3. Calcular las predicciones de al menos 10 imágenes propias (adjuntar evidencia del proceso de adquisición de imágenes). Aplicar y explicar el tratamiento de imágenes necesario para adecuar los datos de entrada al modelo.\n",
    "4. Repetir el ejercicio 2 con al menos una de las imágenes del ejercicio 3."
   ]
  },
  {
   "cell_type": "markdown",
   "metadata": {},
   "source": [
    "**Punto 1**"
   ]
  },
  {
   "cell_type": "code",
   "execution_count": 57,
   "metadata": {},
   "outputs": [
    {
     "name": "stderr",
     "output_type": "stream",
     "text": [
      "WARNING:absl:Compiled the loaded model, but the compiled metrics have yet to be built. `model.compile_metrics` will be empty until you train or evaluate the model.\n",
      "WARNING:absl:Error in loading the saved optimizer state. As a result, your model is starting with a freshly initialized optimizer.\n"
     ]
    },
    {
     "name": "stdout",
     "output_type": "stream",
     "text": [
      "Shape de los kernels: (3, 3, 1, 64)\n"
     ]
    },
    {
     "data": {
      "image/png": "[encoded data removed]",
      "text/plain": [
       "<Figure size 2000x200 with 10 Axes>"
      ]
     },
     "metadata": {},
     "output_type": "display_data"
    },
    {
     "name": "stdout",
     "output_type": "stream",
     "text": [
      "Valores del Kernel 1:\n",
      " [[-0.12700336  0.06122914  0.18749826]\n",
      " [ 0.00937727  0.06842199 -0.15611908]\n",
      " [ 0.07726777  0.1055401  -0.07614024]] \n",
      "\n",
      "Valores del Kernel 2:\n",
      " [[-0.00760545 -0.09749123 -0.0297416 ]\n",
      " [-0.14701729  0.0235094   0.10060543]\n",
      " [ 0.03251523  0.09855077 -0.17245239]] \n",
      "\n",
      "Valores del Kernel 3:\n",
      " [[ 0.07023826 -0.21103628 -0.09095965]\n",
      " [ 0.02933992 -0.07835605 -0.1302393 ]\n",
      " [ 0.14252186  0.11110964  0.11837369]] \n",
      "\n",
      "Valores del Kernel 4:\n",
      " [[-0.21196793 -0.13741313  0.2216292 ]\n",
      " [-0.31462792  0.03304299 -0.00644098]\n",
      " [-0.1741988  -0.14471729 -0.04228156]] \n",
      "\n",
      "Valores del Kernel 5:\n",
      " [[-0.11149041  0.15514414  0.01868065]\n",
      " [-0.03872406 -0.19877903 -0.13155748]\n",
      " [ 0.07934779  0.04774173  0.02208661]] \n",
      "\n",
      "Valores del Kernel 6:\n",
      " [[ 0.1470435   0.14372769  0.19879644]\n",
      " [-0.03609898 -0.00439419  0.0708851 ]\n",
      " [-0.22566178 -0.14623997 -0.03570205]] \n",
      "\n",
      "Valores del Kernel 7:\n",
      " [[ 0.00473779 -0.10265329 -0.16014414]\n",
      " [-0.07055251  0.04871018  0.26408508]\n",
      " [ 0.05364871 -0.05179111  0.15994029]] \n",
      "\n",
      "Valores del Kernel 8:\n",
      " [[-0.15481383 -0.15898013  0.10365874]\n",
      " [ 0.13624863  0.15734306  0.11839522]\n",
      " [-0.13715087 -0.00111765 -0.00045178]] \n",
      "\n",
      "Valores del Kernel 9:\n",
      " [[ 0.09074014  0.10432661 -0.05280223]\n",
      " [-0.20483704 -0.19296305  0.0403509 ]\n",
      " [ 0.06602743  0.0604648   0.12453027]] \n",
      "\n",
      "Valores del Kernel 10:\n",
      " [[-0.14345153  0.0945807  -0.05499689]\n",
      " [ 0.0072555   0.2406906   0.13701588]\n",
      " [-0.08756598 -0.19608338  0.05941346]] \n",
      "\n"
     ]
    }
   ],
   "source": [
    "import tensorflow as tf\n",
    "import matplotlib.pyplot as plt\n",
    "import numpy as np\n",
    "\n",
    "# Carga el modelo preentrenado (ajusta la ruta si es necesario)\n",
    "model = tf.keras.models.load_model(\"mnist_model.h5\")\n",
    "\n",
    "# Obtén la primera capa convolucional\n",
    "first_conv_layer = None\n",
    "for layer in model.layers:\n",
    "    if 'conv' in layer.name:\n",
    "        first_conv_layer = layer\n",
    "        break\n",
    "\n",
    "kernels = first_conv_layer.get_weights()[0]  # shape: (kernel_h, kernel_w, in_channels, out_channels)\n",
    "print(\"Shape de los kernels:\", kernels.shape)\n",
    "\n",
    "# Visualiza los primeros 10 kernels del primer canal de entrada\n",
    "fig, axes = plt.subplots(1, 10, figsize=(20,2))\n",
    "for i in range(10):\n",
    "    kernel = kernels[:, :, 0, i]  # Primer canal de entrada, kernel i\n",
    "    axes[i].imshow(kernel, cmap='gray')\n",
    "    axes[i].set_title(f'Kernel {i+1}')\n",
    "    axes[i].axis('off')\n",
    "plt.suptitle(\"Primeros 10 kernels de la 1ra capa convolucional\")\n",
    "plt.show()\n",
    "\n",
    "# (Opcional) Mostrar los valores numéricos de los primeros kernels\n",
    "for i in range(10):\n",
    "    print(f\"Valores del Kernel {i+1}:\\n\", kernels[:,:,0,i], \"\\n\")\n"
   ]
  },
  {
   "cell_type": "markdown",
   "metadata": {},
   "source": [
    "**Punto 2**"
   ]
  },
  {
   "cell_type": "code",
   "execution_count": 58,
   "metadata": {},
   "outputs": [
    {
     "name": "stdout",
     "output_type": "stream",
     "text": [
      "\u001b[1m1/1\u001b[0m \u001b[32m━━━━━━━━━━━━━━━━━━━━\u001b[0m\u001b[37m\u001b[0m \u001b[1m0s\u001b[0m 75ms/step\n"
     ]
    },
    {
     "data": {
      "image/png": "[encoded data removed]",
      "text/plain": [
       "<Figure size 2000x200 with 10 Axes>"
      ]
     },
     "metadata": {},
     "output_type": "display_data"
    }
   ],
   "source": [
    "from tensorflow.keras import Model\n",
    "\n",
    "# Carga una imagen de prueba de MNIST\n",
    "(_, _), (x_test, y_test) = tf.keras.datasets.mnist.load_data()\n",
    "img = x_test[1]  # Cambia el índice si quieres otra imagen\n",
    "img_norm = img / 255.0\n",
    "img_input = np.expand_dims(np.expand_dims(img_norm, axis=0), axis=-1)\n",
    "\n",
    "# Encuentra la primera capa convolucional y la capa de entrada real\n",
    "first_conv_layer = None\n",
    "for layer in model.layers:\n",
    "    if 'conv' in layer.name:\n",
    "        first_conv_layer = layer\n",
    "        break\n",
    "\n",
    "input_layer = model.layers[0].input  # OJO: input real de la primera capa\n",
    "\n",
    "model_cut = Model(inputs=input_layer, outputs=first_conv_layer.output)\n",
    "feature_maps = model_cut.predict(img_input)\n",
    "\n",
    "# Visualiza los 10 primeros feature maps (salidas de la convolución)\n",
    "fig, axes = plt.subplots(1, 10, figsize=(20,2))\n",
    "for i in range(10):\n",
    "    axes[i].imshow(feature_maps[0, :, :, i], cmap='gray')\n",
    "    axes[i].set_title(f'Mapa {i+1}')\n",
    "    axes[i].axis('off')\n",
    "plt.suptitle(\"Feature maps: salida de la convolución de la imagen con los 10 kernels\")\n",
    "plt.show()\n",
    "\n"
   ]
  },
  {
   "cell_type": "markdown",
   "metadata": {},
   "source": [
    "PUNTO 3"
   ]
  },
  {
   "cell_type": "code",
   "execution_count": 59,
   "metadata": {},
   "outputs": [
    {
     "name": "stderr",
     "output_type": "stream",
     "text": [
      "WARNING:absl:Compiled the loaded model, but the compiled metrics have yet to be built. `model.compile_metrics` will be empty until you train or evaluate the model.\n",
      "WARNING:absl:Error in loading the saved optimizer state. As a result, your model is starting with a freshly initialized optimizer.\n"
     ]
    },
    {
     "name": "stdout",
     "output_type": "stream",
     "text": [
      "\u001b[1m1/1\u001b[0m \u001b[32m━━━━━━━━━━━━━━━━━━━━\u001b[0m\u001b[37m\u001b[0m \u001b[1m0s\u001b[0m 182ms/step\n"
     ]
    },
    {
     "data": {
      "image/png": "[encoded data removed]",
      "text/plain": [
       "<Figure size 1200x600 with 10 Axes>"
      ]
     },
     "metadata": {},
     "output_type": "display_data"
    }
   ],
   "source": [
    "import numpy as np\n",
    "import cv2\n",
    "import matplotlib.pyplot as plt\n",
    "from tensorflow.keras.models import load_model\n",
    "\n",
    "model = load_model(\"mnist_model.h5\")\n",
    "model.compile(optimizer='adam', loss='sparse_categorical_crossentropy', metrics=['accuracy'])\n",
    "\n",
    "archivos = [\n",
    "    \"imagenes_propias/0.jpg\",\n",
    "    \"imagenes_propias/1.jpg\",\n",
    "    \"imagenes_propias/2.jpg\",\n",
    "    \"imagenes_propias/3.jpg\",\n",
    "    \"imagenes_propias/4.jpg\",\n",
    "    \"imagenes_propias/5.jpg\",\n",
    "    \"imagenes_propias/6.jpg\",\n",
    "    \"imagenes_propias/7.jpg\",\n",
    "    \"imagenes_propias/8.jpg\",\n",
    "    \"imagenes_propias/9.jpg\"\n",
    "]\n",
    "\n",
    "imagenes_procesadas = []\n",
    "\n",
    "def centrar_imagen(imagen):\n",
    "    # Encontrar el contorno del número\n",
    "    coords = cv2.findNonZero(imagen)\n",
    "    x, y, w, h = cv2.boundingRect(coords)\n",
    "    recorte = imagen[y:y+h, x:x+w]\n",
    "\n",
    "    # Redimensionar para que el dígito más largo sea 20 píxeles\n",
    "    margen = 4  # 28 - 20 = 8 / 2\n",
    "    if h > w:\n",
    "        nueva_altura = 20\n",
    "        nueva_anchura = int((w / h) * 20)\n",
    "    else:\n",
    "        nueva_anchura = 20\n",
    "        nueva_altura = int((h / w) * 20)\n",
    "\n",
    "    imagen_redimensionada = cv2.resize(recorte, (nueva_anchura, nueva_altura), interpolation=cv2.INTER_AREA)\n",
    "\n",
    "    # Crear una imagen negra de 28x28\n",
    "    canvas = np.zeros((28, 28), dtype=np.uint8)\n",
    "    x_offset = (28 - nueva_anchura) // 2\n",
    "    y_offset = (28 - nueva_altura) // 2\n",
    "\n",
    "    # Pegar la imagen redimensionada en el centro del canvas\n",
    "    canvas[y_offset:y_offset + nueva_altura, x_offset:x_offset + nueva_anchura] = imagen_redimensionada\n",
    "\n",
    "    return canvas\n",
    "\n",
    "for archivo in archivos:\n",
    "    imagen = cv2.imread(archivo, cv2.IMREAD_GRAYSCALE)\n",
    "    imagen = cv2.resize(imagen, (28, 28), interpolation=cv2.INTER_AREA)\n",
    "\n",
    "    # Binarizar e invertir\n",
    "    _, imagen = cv2.threshold(imagen, 127, 255, cv2.THRESH_BINARY_INV)\n",
    "\n",
    "    # Centrar el dígito en el canvas\n",
    "    imagen = centrar_imagen(imagen)\n",
    "\n",
    "    # Normalizar y dar forma\n",
    "    imagen = imagen.astype(\"float32\") / 255.0\n",
    "    imagen = imagen.reshape(28, 28, 1)\n",
    "\n",
    "    imagenes_procesadas.append(imagen)\n",
    "\n",
    "imagenes_np = np.array(imagenes_procesadas)\n",
    "predicciones = model.predict(imagenes_np)\n",
    "etiquetas = np.argmax(predicciones, axis=1)\n",
    "\n",
    "# Mostrar los resultados\n",
    "plt.figure(figsize=(12, 6))\n",
    "for i in range(len(imagenes_np)):\n",
    "    plt.subplot(2, 5, i+1)\n",
    "    plt.imshow(imagenes_np[i].reshape(28, 28), cmap=\"gray\")\n",
    "    plt.title(f\"Predicción: {etiquetas[i]}\")\n",
    "    plt.axis(\"off\")\n",
    "\n",
    "plt.tight_layout()\n",
    "plt.show()\n",
    "\n"
   ]
  },
  {
   "cell_type": "markdown",
   "metadata": {},
   "source": [
    "##PUNTO 4"
   ]
  },
  {
   "cell_type": "code",
   "execution_count": 60,
   "metadata": {},
   "outputs": [
    {
     "name": "stderr",
     "output_type": "stream",
     "text": [
      "WARNING:absl:Compiled the loaded model, but the compiled metrics have yet to be built. `model.compile_metrics` will be empty until you train or evaluate the model.\n",
      "WARNING:absl:Error in loading the saved optimizer state. As a result, your model is starting with a freshly initialized optimizer.\n"
     ]
    },
    {
     "ename": "AttributeError",
     "evalue": "The layer sequential has never been called and thus has no defined input.",
     "output_type": "error",
     "traceback": [
      "\u001b[1;31m---------------------------------------------------------------------------\u001b[0m",
      "\u001b[1;31mAttributeError\u001b[0m                            Traceback (most recent call last)",
      "Cell \u001b[1;32mIn[60], line 48\u001b[0m\n\u001b[0;32m     45\u001b[0m         \u001b[38;5;28;01mbreak\u001b[39;00m\n\u001b[0;32m     47\u001b[0m \u001b[38;5;66;03m# ====== Crear submodelo para extraer feature maps ======\u001b[39;00m\n\u001b[1;32m---> 48\u001b[0m input_layer \u001b[38;5;241m=\u001b[39m \u001b[43mmodel\u001b[49m\u001b[38;5;241;43m.\u001b[39;49m\u001b[43minput\u001b[49m  \u001b[38;5;66;03m# ya está definido si el modelo fue llamado antes\u001b[39;00m\n\u001b[0;32m     49\u001b[0m model_cut \u001b[38;5;241m=\u001b[39m Model(inputs\u001b[38;5;241m=\u001b[39minput_layer, outputs\u001b[38;5;241m=\u001b[39mfirst_conv_layer\u001b[38;5;241m.\u001b[39moutput)\n\u001b[0;32m     50\u001b[0m feature_maps \u001b[38;5;241m=\u001b[39m model_cut\u001b[38;5;241m.\u001b[39mpredict(img_input)\n",
      "File \u001b[1;32mc:\\Users\\ddavi\\anaconda3\\envs\\mnist-tarea\\lib\\site-packages\\keras\\src\\ops\\operation.py:276\u001b[0m, in \u001b[0;36mOperation.input\u001b[1;34m(self)\u001b[0m\n\u001b[0;32m    266\u001b[0m \u001b[38;5;129m@property\u001b[39m\n\u001b[0;32m    267\u001b[0m \u001b[38;5;28;01mdef\u001b[39;00m\u001b[38;5;250m \u001b[39m\u001b[38;5;21minput\u001b[39m(\u001b[38;5;28mself\u001b[39m):\n\u001b[0;32m    268\u001b[0m \u001b[38;5;250m    \u001b[39m\u001b[38;5;124;03m\"\"\"Retrieves the input tensor(s) of a symbolic operation.\u001b[39;00m\n\u001b[0;32m    269\u001b[0m \n\u001b[0;32m    270\u001b[0m \u001b[38;5;124;03m    Only returns the tensor(s) corresponding to the *first time*\u001b[39;00m\n\u001b[1;32m   (...)\u001b[0m\n\u001b[0;32m    274\u001b[0m \u001b[38;5;124;03m        Input tensor or list of input tensors.\u001b[39;00m\n\u001b[0;32m    275\u001b[0m \u001b[38;5;124;03m    \"\"\"\u001b[39;00m\n\u001b[1;32m--> 276\u001b[0m     \u001b[38;5;28;01mreturn\u001b[39;00m \u001b[38;5;28;43mself\u001b[39;49m\u001b[38;5;241;43m.\u001b[39;49m\u001b[43m_get_node_attribute_at_index\u001b[49m\u001b[43m(\u001b[49m\u001b[38;5;241;43m0\u001b[39;49m\u001b[43m,\u001b[49m\u001b[43m \u001b[49m\u001b[38;5;124;43m\"\u001b[39;49m\u001b[38;5;124;43minput_tensors\u001b[39;49m\u001b[38;5;124;43m\"\u001b[39;49m\u001b[43m,\u001b[49m\u001b[43m \u001b[49m\u001b[38;5;124;43m\"\u001b[39;49m\u001b[38;5;124;43minput\u001b[39;49m\u001b[38;5;124;43m\"\u001b[39;49m\u001b[43m)\u001b[49m\n",
      "File \u001b[1;32mc:\\Users\\ddavi\\anaconda3\\envs\\mnist-tarea\\lib\\site-packages\\keras\\src\\ops\\operation.py:307\u001b[0m, in \u001b[0;36mOperation._get_node_attribute_at_index\u001b[1;34m(self, node_index, attr, attr_name)\u001b[0m\n\u001b[0;32m    291\u001b[0m \u001b[38;5;250m\u001b[39m\u001b[38;5;124;03m\"\"\"Private utility to retrieves an attribute (e.g. inputs) from a node.\u001b[39;00m\n\u001b[0;32m    292\u001b[0m \n\u001b[0;32m    293\u001b[0m \u001b[38;5;124;03mThis is used to implement the properties:\u001b[39;00m\n\u001b[1;32m   (...)\u001b[0m\n\u001b[0;32m    304\u001b[0m \u001b[38;5;124;03m    The operation's attribute `attr` at the node of index `node_index`.\u001b[39;00m\n\u001b[0;32m    305\u001b[0m \u001b[38;5;124;03m\"\"\"\u001b[39;00m\n\u001b[0;32m    306\u001b[0m \u001b[38;5;28;01mif\u001b[39;00m \u001b[38;5;129;01mnot\u001b[39;00m \u001b[38;5;28mself\u001b[39m\u001b[38;5;241m.\u001b[39m_inbound_nodes:\n\u001b[1;32m--> 307\u001b[0m     \u001b[38;5;28;01mraise\u001b[39;00m \u001b[38;5;167;01mAttributeError\u001b[39;00m(\n\u001b[0;32m    308\u001b[0m         \u001b[38;5;124mf\u001b[39m\u001b[38;5;124m\"\u001b[39m\u001b[38;5;124mThe layer \u001b[39m\u001b[38;5;132;01m{\u001b[39;00m\u001b[38;5;28mself\u001b[39m\u001b[38;5;241m.\u001b[39mname\u001b[38;5;132;01m}\u001b[39;00m\u001b[38;5;124m has never been called \u001b[39m\u001b[38;5;124m\"\u001b[39m\n\u001b[0;32m    309\u001b[0m         \u001b[38;5;124mf\u001b[39m\u001b[38;5;124m\"\u001b[39m\u001b[38;5;124mand thus has no defined \u001b[39m\u001b[38;5;132;01m{\u001b[39;00mattr_name\u001b[38;5;132;01m}\u001b[39;00m\u001b[38;5;124m.\u001b[39m\u001b[38;5;124m\"\u001b[39m\n\u001b[0;32m    310\u001b[0m     )\n\u001b[0;32m    311\u001b[0m \u001b[38;5;28;01mif\u001b[39;00m \u001b[38;5;129;01mnot\u001b[39;00m \u001b[38;5;28mlen\u001b[39m(\u001b[38;5;28mself\u001b[39m\u001b[38;5;241m.\u001b[39m_inbound_nodes) \u001b[38;5;241m>\u001b[39m node_index:\n\u001b[0;32m    312\u001b[0m     \u001b[38;5;28;01mraise\u001b[39;00m \u001b[38;5;167;01mValueError\u001b[39;00m(\n\u001b[0;32m    313\u001b[0m         \u001b[38;5;124mf\u001b[39m\u001b[38;5;124m\"\u001b[39m\u001b[38;5;124mAsked to get \u001b[39m\u001b[38;5;132;01m{\u001b[39;00mattr_name\u001b[38;5;132;01m}\u001b[39;00m\u001b[38;5;124m at node \u001b[39m\u001b[38;5;124m\"\u001b[39m\n\u001b[0;32m    314\u001b[0m         \u001b[38;5;124mf\u001b[39m\u001b[38;5;124m\"\u001b[39m\u001b[38;5;132;01m{\u001b[39;00mnode_index\u001b[38;5;132;01m}\u001b[39;00m\u001b[38;5;124m, but the operation has only \u001b[39m\u001b[38;5;124m\"\u001b[39m\n\u001b[0;32m    315\u001b[0m         \u001b[38;5;124mf\u001b[39m\u001b[38;5;124m\"\u001b[39m\u001b[38;5;132;01m{\u001b[39;00m\u001b[38;5;28mlen\u001b[39m(\u001b[38;5;28mself\u001b[39m\u001b[38;5;241m.\u001b[39m_inbound_nodes)\u001b[38;5;132;01m}\u001b[39;00m\u001b[38;5;124m inbound nodes.\u001b[39m\u001b[38;5;124m\"\u001b[39m\n\u001b[0;32m    316\u001b[0m     )\n",
      "\u001b[1;31mAttributeError\u001b[0m: The layer sequential has never been called and thus has no defined input."
     ]
    }
   ],
   "source": [
    "import numpy as np\n",
    "import cv2\n",
    "import matplotlib.pyplot as plt\n",
    "from tensorflow.keras import Model\n",
    "from tensorflow.keras.models import load_model\n",
    "from tensorflow.keras.layers import Conv2D\n",
    "\n",
    "# ====== Cargar modelo ======\n",
    "model = load_model(\"mnist_model.h5\")\n",
    "\n",
    "# ====== Función para procesar tu imagen personalizada ======\n",
    "def procesar_imagen(path):\n",
    "    imagen = cv2.imread(path, cv2.IMREAD_GRAYSCALE)\n",
    "    imagen = cv2.resize(imagen, (28, 28), interpolation=cv2.INTER_AREA)\n",
    "    imagen = cv2.adaptiveThreshold(imagen, 255, cv2.ADAPTIVE_THRESH_MEAN_C, cv2.THRESH_BINARY_INV, 11, 5)\n",
    "    coords = cv2.findNonZero(imagen)\n",
    "    x, y, w, h = cv2.boundingRect(coords)\n",
    "    x = max(0, x - 2)\n",
    "    y = max(0, y - 2)\n",
    "    w = min(w + 4, imagen.shape[1] - x)\n",
    "    h = min(h + 4, imagen.shape[0] - y)\n",
    "    recorte = imagen[y:y+h, x:x+w]\n",
    "    if h > w:\n",
    "        nueva_altura = 20\n",
    "        nueva_anchura = int((w / h) * 20)\n",
    "    else:\n",
    "        nueva_anchura = 20\n",
    "        nueva_altura = int((h / w) * 20)\n",
    "    imagen_redimensionada = cv2.resize(recorte, (nueva_anchura, nueva_altura), interpolation=cv2.INTER_AREA)\n",
    "    canvas = np.zeros((28, 28), dtype=np.uint8)\n",
    "    x_offset = (28 - nueva_anchura) // 2\n",
    "    y_offset = (28 - nueva_altura) // 2\n",
    "    canvas[y_offset:y_offset + nueva_altura, x_offset:x_offset + nueva_anchura] = imagen_redimensionada\n",
    "    canvas = canvas.astype(\"float32\") / 255.0\n",
    "    return canvas.reshape(1, 28, 28, 1)\n",
    "\n",
    "# ====== Cargar imagen propia ======\n",
    "img_input = procesar_imagen(\"imagenes_propias/2.jpg\")  # Usa tu ruta\n",
    "\n",
    "# ====== Encontrar primera capa convolucional ======\n",
    "first_conv_layer = None\n",
    "for layer in model.layers:\n",
    "    if isinstance(layer, Conv2D):\n",
    "        first_conv_layer = layer\n",
    "        break\n",
    "\n",
    "# ====== Crear submodelo para extraer feature maps ======\n",
    "input_layer = model.input  # ya está definido si el modelo fue llamado antes\n",
    "model_cut = Model(inputs=input_layer, outputs=first_conv_layer.output)\n",
    "feature_maps = model_cut.predict(img_input)\n",
    "\n",
    "# ====== Visualizar primeros 10 mapas de activación ======\n",
    "fig, axes = plt.subplots(1, 10, figsize=(20, 2))\n",
    "for i in range(10):\n",
    "    axes[i].imshow(feature_maps[0, :, :, i], cmap='gray')\n",
    "    axes[i].set_title(f'Mapa {i+1}')\n",
    "    axes[i].axis('off')\n",
    "plt.suptitle(\"Feature maps (activaciones) con tu imagen personalizada\")\n",
    "plt.show()\n"
   ]
  }
 ],
 "metadata": {
  "kernelspec": {
   "display_name": "mnist-tarea",
   "language": "python",
   "name": "python3"
  },
  "language_info": {
   "codemirror_mode": {
    "name": "ipython",
    "version": 3
   },
   "file_extension": ".py",
   "mimetype": "text/x-python",
   "name": "python",
   "nbconvert_exporter": "python",
   "pygments_lexer": "ipython3",
   "version": "3.9.23"
  }
 },
 "nbformat": 4,
 "nbformat_minor": 2
}
